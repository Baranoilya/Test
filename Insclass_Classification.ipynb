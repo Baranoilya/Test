{
  "nbformat": 4,
  "nbformat_minor": 0,
  "metadata": {
    "colab": {
      "provenance": []
    },
    "kernelspec": {
      "name": "python3",
      "display_name": "Python 3"
    },
    "language_info": {
      "name": "python"
    }
  },
  "cells": [
    {
      "cell_type": "code",
      "execution_count": null,
      "metadata": {
        "id": "Y31nGjbKfeJN"
      },
      "outputs": [],
      "source": [
        "import numpy as np\n",
        "import pandas as pd\n",
        "import matplotlib.pyplot as plt\n",
        "import seaborn as sns"
      ]
    },
    {
      "cell_type": "code",
      "source": [
        "data = pd.read_csv(r'/content/insclass_train.csv')\n",
        "data.head(6)"
      ],
      "metadata": {
        "id": "39TpByGYnF4m"
      },
      "execution_count": null,
      "outputs": []
    },
    {
      "cell_type": "code",
      "source": [
        "data.info()"
      ],
      "metadata": {
        "id": "tLpSB3XanuBv"
      },
      "execution_count": null,
      "outputs": []
    },
    {
      "cell_type": "code",
      "source": [
        "data = data.drop(columns = ['variable_3', 'variable_7', 'variable_9', 'variable_15'])\n",
        "data['target'] = data['target'].fillna(0)\n",
        "data = data.fillna(-1000)\n",
        "data"
      ],
      "metadata": {
        "id": "mMwAO4WioHod"
      },
      "execution_count": null,
      "outputs": []
    },
    {
      "cell_type": "code",
      "source": [
        "data['variable_1'] = data['variable_1'].str.replace('w', '').map(int)"
      ],
      "metadata": {
        "id": "CRSiZW8DliOh"
      },
      "execution_count": null,
      "outputs": []
    },
    {
      "cell_type": "code",
      "source": [
        "data.info()"
      ],
      "metadata": {
        "id": "PYnU5wJ3oaaW"
      },
      "execution_count": null,
      "outputs": []
    },
    {
      "cell_type": "code",
      "source": [
        "data.describe()"
      ],
      "metadata": {
        "id": "I_QWZYlbohH6"
      },
      "execution_count": null,
      "outputs": []
    },
    {
      "cell_type": "code",
      "source": [
        "y = data['target']\n",
        "x = data.drop(columns = ['target'])"
      ],
      "metadata": {
        "id": "5P_llyPvoxOx"
      },
      "execution_count": null,
      "outputs": []
    },
    {
      "cell_type": "code",
      "source": [
        "x1 = pd.get_dummies(x)"
      ],
      "metadata": {
        "id": "sxvuFMU2pMxZ"
      },
      "execution_count": null,
      "outputs": []
    },
    {
      "cell_type": "code",
      "source": [
        "x1"
      ],
      "metadata": {
        "id": "bM-2i9TYplXC"
      },
      "execution_count": null,
      "outputs": []
    },
    {
      "cell_type": "code",
      "source": [
        "# Разделим данные на обучающую выборку, которую покажем машине, и тестовую, которую машине не будем показывать при обучении.\n",
        "from sklearn.model_selection import train_test_split\n",
        "x_train, x_test, y_train, y_test = train_test_split(x1, y, test_size = 0.2)\n",
        "x1.shape, y.shape"
      ],
      "metadata": {
        "id": "9n94dCQupvnf"
      },
      "execution_count": null,
      "outputs": []
    },
    {
      "cell_type": "code",
      "source": [
        "x_train.shape, x_test.shape, y_train.shape, y_test.shape\n"
      ],
      "metadata": {
        "id": "VwSJE4Q2p3E6"
      },
      "execution_count": null,
      "outputs": []
    },
    {
      "cell_type": "code",
      "source": [
        "from sklearn.linear_model import LogisticRegression\n",
        "classif = LogisticRegression(max_iter = 300) # создадим модель логистической  регрессии\n",
        "classif.fit(x_train, y_train) # обучим ее на обучающей выборке x_train, y_train"
      ],
      "metadata": {
        "id": "mNaxTmHwqOcu"
      },
      "execution_count": null,
      "outputs": []
    },
    {
      "cell_type": "markdown",
      "source": [
        "Accuracy - доля правильных ответов\n",
        "\n",
        "Recall - доля обнаруженных объектов класса 1\n",
        "\n",
        "Precision -доля объектов, которые на самом деле относятся к классу 1, среди тех, кого модель относит к классу 1"
      ],
      "metadata": {
        "id": "B7HuBUwTqOCR"
      }
    },
    {
      "cell_type": "code",
      "source": [
        "from sklearn.metrics import accuracy_score, recall_score, precision_score, confusion_matrix\n",
        "y_pred = classif.predict(x_train)\n",
        "\n",
        "print('Accuracy (train) = ', accuracy_score(y_train, y_pred), ', Recall (train) = ', recall_score(y_train, y_pred),\n",
        "      ', Precision (train) = ', precision_score(y_train, y_pred))"
      ],
      "metadata": {
        "id": "VnsUDIfxr36r"
      },
      "execution_count": null,
      "outputs": []
    },
    {
      "cell_type": "code",
      "source": [
        "sns.heatmap(confusion_matrix(y_train, y_pred), annot = True, fmt = \"d\")"
      ],
      "metadata": {
        "id": "GB0XHVhBOZDF"
      },
      "execution_count": null,
      "outputs": []
    },
    {
      "cell_type": "code",
      "source": [
        "y_pred = classif.predict(x_test)\n",
        "\n",
        "print('Accuracy (test) = ', accuracy_score(y_test, y_pred), 'Recall (test) = ', recall_score(y_test, y_pred),\n",
        "      'Precision (test) = ', precision_score(y_test, y_pred))"
      ],
      "metadata": {
        "id": "1XivTpx6tu-Z"
      },
      "execution_count": null,
      "outputs": []
    },
    {
      "cell_type": "code",
      "source": [
        "sns.heatmap(confusion_matrix(y_test, y_pred), annot = True, fmt = 'd')"
      ],
      "metadata": {
        "id": "GpmA1AJ7OjGl"
      },
      "execution_count": null,
      "outputs": []
    },
    {
      "cell_type": "code",
      "source": [
        "!pip install catboost"
      ],
      "metadata": {
        "id": "FV-J2bkLtuzN"
      },
      "execution_count": null,
      "outputs": []
    },
    {
      "cell_type": "code",
      "source": [
        "from catboost import Pool, CatBoostClassifier"
      ],
      "metadata": {
        "id": "AFKbvbEUuf31"
      },
      "execution_count": null,
      "outputs": []
    },
    {
      "cell_type": "code",
      "source": [
        "x_train, x_test, y_train, y_test = train_test_split(x, y, test_size = 0.2)\n",
        "x.shape, y.shape"
      ],
      "metadata": {
        "id": "djKz-BjMwEO0"
      },
      "execution_count": null,
      "outputs": []
    },
    {
      "cell_type": "code",
      "source": [
        "train_pool = Pool(x_train,\n",
        "                  y_train,\n",
        "                  cat_features=['variable_5', 'variable_20', 'variable_21', 'variable_22', 'variable_28'])\n",
        "test_pool = Pool(x_test,\n",
        "                  cat_features=['variable_5', 'variable_20', 'variable_21', 'variable_22', 'variable_28'])\n",
        "\n",
        "classif = CatBoostClassifier(iterations = 1000, learning_rate = 0.1, max_depth = 5)\n",
        "classif.fit(train_pool)"
      ],
      "metadata": {
        "id": "gROI16lkurNV"
      },
      "execution_count": null,
      "outputs": []
    },
    {
      "cell_type": "code",
      "source": [
        "y_pred = classif.predict(x_train)\n",
        "\n",
        "print('Accuracy (train) = ', accuracy_score(y_train, y_pred), ', Recall (train) = ', recall_score(y_train, y_pred),\n",
        "      ', Precision (train) = ', precision_score(y_train, y_pred))"
      ],
      "metadata": {
        "id": "c7q2JLAbuq8w"
      },
      "execution_count": null,
      "outputs": []
    },
    {
      "cell_type": "code",
      "source": [
        "sns.heatmap(confusion_matrix(y_train, y_pred), annot = True, fmt = 'd')"
      ],
      "metadata": {
        "id": "Q7wO_ICmw5hX"
      },
      "execution_count": null,
      "outputs": []
    },
    {
      "cell_type": "code",
      "source": [
        "y_pred = classif.predict(x_test)\n",
        "\n",
        "print('Accuracy (test) = ', accuracy_score(y_test, y_pred), ', Recall (test) = ', recall_score(y_test, y_pred),\n",
        "      ', Precision (test) = ', precision_score(y_test, y_pred))"
      ],
      "metadata": {
        "id": "Qa6DgeEbQyv0"
      },
      "execution_count": null,
      "outputs": []
    },
    {
      "cell_type": "code",
      "source": [
        "sns.heatmap(confusion_matrix(y_test, y_pred), annot = True, fmt = 'd')"
      ],
      "metadata": {
        "id": "MksCmYSdQ417"
      },
      "execution_count": null,
      "outputs": []
    },
    {
      "cell_type": "code",
      "source": [
        "classif = CatBoostClassifier()\n",
        "classif.fit(train_pool)"
      ],
      "metadata": {
        "id": "l7XR8S1zsGBQ"
      },
      "execution_count": null,
      "outputs": []
    },
    {
      "cell_type": "code",
      "source": [
        "y_pred = classif.predict(x_train)\n",
        "\n",
        "print('Accuracy (train) = ', accuracy_score(y_train, y_pred), ', Recall (train) = ', recall_score(y_train, y_pred),\n",
        "      ', Precision (train) = ', precision_score(y_train, y_pred))\n"
      ],
      "metadata": {
        "id": "xBEiNomksP1C"
      },
      "execution_count": null,
      "outputs": []
    },
    {
      "cell_type": "code",
      "source": [
        "y_pred = classif.predict(x_test)\n",
        "\n",
        "print('Accuracy (test) = ', accuracy_score(y_test, y_pred), ', Recall (test) = ', recall_score(y_test, y_pred),\n",
        "      ', Precision (test) = ', precision_score(y_test, y_pred))"
      ],
      "metadata": {
        "id": "5UnumNLPsUip"
      },
      "execution_count": null,
      "outputs": []
    },
    {
      "cell_type": "code",
      "source": [
        "data['power_gr_200'] = data['variable_6'] > 200\n",
        "y = data['target']\n",
        "x = data.drop(columns = ['target'])\n",
        "x_train, x_test, y_train, y_test = train_test_split(x, y, test_size = 0.2)\n",
        "train_pool = Pool(x_train,\n",
        "                  y_train,\n",
        "                  cat_features=['variable_5', 'variable_20', 'variable_21', 'variable_22', 'variable_28'])\n",
        "test_pool = Pool(x_test,\n",
        "                  cat_features=['variable_5', 'variable_20', 'variable_21', 'variable_22', 'variable_28'])\n",
        "\n",
        "classif = CatBoostClassifier(verbose = 100)\n",
        "classif.fit(train_pool)\n",
        "y_pred = classif.predict(x_train)\n",
        "\n",
        "print('Accuracy (train) = ', accuracy_score(y_train, y_pred), ', Recall (train) = ', recall_score(y_train, y_pred),\n",
        "      ', Precision (train) = ', precision_score(y_train, y_pred))\n",
        "\n",
        "y_pred = classif.predict(x_test)\n",
        "\n",
        "print('Accuracy (test) = ', accuracy_score(y_test, y_pred), ', Recall (test) = ', recall_score(y_test, y_pred),\n",
        "      ', Precision (test) = ', precision_score(y_test, y_pred))\n",
        "\n",
        "sns.heatmap(confusion_matrix(y_test, y_pred), annot = True, fmt = 'd')"
      ],
      "metadata": {
        "id": "pYZI0lvGtRiX"
      },
      "execution_count": null,
      "outputs": []
    },
    {
      "cell_type": "code",
      "source": [
        "classif.get_feature_importance()"
      ],
      "metadata": {
        "id": "1goKAL7Nb1be"
      },
      "execution_count": null,
      "outputs": []
    },
    {
      "cell_type": "code",
      "source": [
        "x = data.drop(columns = ['target', 'variable_19', 'variable_27'])\n",
        "x_train, x_test, y_train, y_test = train_test_split(x, y, test_size = 0.2)\n",
        "train_pool = Pool(x_train,\n",
        "                  y_train,\n",
        "                  cat_features=['variable_5', 'variable_20', 'variable_21', 'variable_22', 'variable_28'])\n",
        "test_pool = Pool(x_test,\n",
        "                  cat_features=['variable_5', 'variable_20', 'variable_21', 'variable_22', 'variable_28'])\n",
        "\n",
        "classif = CatBoostClassifier(verbose = 100)\n",
        "classif.fit(train_pool)\n",
        "y_pred = classif.predict(x_train)\n",
        "\n",
        "print('Accuracy (train) = ', accuracy_score(y_train, y_pred), ', Recall (train) = ', recall_score(y_train, y_pred),\n",
        "      ', Precision (train) = ', precision_score(y_train, y_pred))\n",
        "\n",
        "y_pred = classif.predict(x_test)\n",
        "\n",
        "print('Accuracy (test) = ', accuracy_score(y_test, y_pred), ', Recall (test) = ', recall_score(y_test, y_pred),\n",
        "      ', Precision (test) = ', precision_score(y_test, y_pred))\n",
        "\n",
        "sns.heatmap(confusion_matrix(y_test, y_pred), annot = True, fmt = 'd')"
      ],
      "metadata": {
        "id": "UcbhHrmVwWaN"
      },
      "execution_count": null,
      "outputs": []
    }
  ]
}